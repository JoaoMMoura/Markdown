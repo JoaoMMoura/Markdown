{
 "cells": [
  {
   "cell_type": "markdown",
   "id": "6170008c",
   "metadata": {},
   "source": [
    "# Fórmula de Bhaskara\n",
    "\n",
    "A solução para uma função de segundo grau depende das suas raízes (valores de x). Como já vimos, os coeficientes precisam ser números reais e o angular diferente de zero. Sendo assim, temos a seguinte fórmula de Bhaskara:\n",
    "\n",
    "$$x = \\frac{-b \\pm \\sqrt{\\Delta}}{2a}$$\n",
    "<p style=\"text-align: center;\"><strong>Fórmula de Bhaskara.</strong></p>\n",
    "\n",
    "Para melhor compreensão o seu cálculo é dividido em duas partes: discriminante da equação e operações para determinar as raízes.\n",
    "\n",
    "\n",
    "**Discriminante**:\n",
    "\n",
    "A figura dentro da raiz na fórmula de Bhaskara é nomeada de discriminante. Seu símbolo é a letra grega delta e apresenta a determinada fórmula:\n",
    "\n",
    "\n",
    "$$\\Delta = b^2 - 4ac$$\n",
    "<p style=\"text-align: center;\"><strong>Fórmula da Discriminante.</strong></p>\n",
    "\n",
    "- Se ($\\Delta$) for maior que zero, a equação terá duas raízes reais e distintas.\n",
    "- Se ($\\Delta\\$) for igual a zero, a equação terá uma raiz real ou duas raízes iguais.\n",
    "- Se ($\\Delta\\$) for menor que zero, a equação não possui raízes reais, ou seja, não possui solução no conjunto dos números reais."
   ]
  }
 ],
 "metadata": {
  "kernelspec": {
   "display_name": "Python 3 (ipykernel)",
   "language": "python",
   "name": "python3"
  },
  "language_info": {
   "codemirror_mode": {
    "name": "ipython",
    "version": 3
   },
   "file_extension": ".py",
   "mimetype": "text/x-python",
   "name": "python",
   "nbconvert_exporter": "python",
   "pygments_lexer": "ipython3",
   "version": "3.9.7"
  }
 },
 "nbformat": 4,
 "nbformat_minor": 5
}
